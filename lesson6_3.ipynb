{
 "cells": [
  {
   "cell_type": "code",
   "execution_count": 7,
   "metadata": {},
   "outputs": [
    {
     "name": "stdout",
     "output_type": "stream",
     "text": [
      "小於120,不在範圍內\n"
     ]
    }
   ],
   "source": [
    "#當兩個條件 則用巢狀判斷及 邏輯運算子去寫\n",
    "#檢查輸入的範圍    公斤/公尺2=BMI\n",
    "#try...except...\n",
    "#輸出錯誤訊息\n",
    "#輸入:\n",
    "#請輸入身高(公分,120-250):\n",
    "#請輸入體重(公斤,30-250):\n",
    "\n",
    "#輸出:\n",
    "#您的BMI是:xxxx\n",
    "height = int(input(\"請輸入身高(公分,120-250):\"))\n",
    "#巢狀判斷\n",
    "if height >= 120:\n",
    "    if height <=250:\n",
    "        print(\"在120-250之間\") \n",
    "    else:\n",
    "        print(\"250,不在範圍內\")    \n",
    "    pass\n",
    "else:\n",
    "    print(\"小於120,不在範圍內\")"
   ]
  },
  {
   "cell_type": "code",
   "execution_count": 8,
   "metadata": {},
   "outputs": [
    {
     "name": "stdout",
     "output_type": "stream",
     "text": [
      "請輸入身高(公分,120-250):250\n",
      "在120-250之間\n"
     ]
    }
   ],
   "source": [
    "#用外部函數寫的方式則變成\n",
    "\n",
    "import pyinputplus as pyip\n",
    "\n",
    "height = pyip.inputInt(\"請輸入身高(公分,120-250):\")\n",
    "print(height)\n",
    "if height >= 120 and height <= 250:\n",
    "    print(\"在120-250之間\")\n",
    "else:\n",
    "    print(\"不在範圍內\")"
   ]
  },
  {
   "cell_type": "code",
   "execution_count": 9,
   "metadata": {},
   "outputs": [
    {
     "name": "stdout",
     "output_type": "stream",
     "text": [
      "請輸入身高(公分,120-250):170\n",
      "在120-250之間\n"
     ]
    }
   ],
   "source": [
    "import pyinputplus as pyip\n",
    "\n",
    "height = pyip.inputInt(\"請輸入身高(公分,120-250):\")\n",
    "print(height)\n",
    "if height<120 or height>250:\n",
    "    print(\"不在範圍內\")\n",
    "else:\n",
    "    print(\"在120-250之間\")"
   ]
  },
  {
   "cell_type": "code",
   "execution_count": 10,
   "metadata": {},
   "outputs": [
    {
     "name": "stdout",
     "output_type": "stream",
     "text": [
      "請輸入身高(公分,120-250):270\n",
      "不在範圍內\n"
     ]
    }
   ],
   "source": [
    "import pyinputplus as pyip\n",
    "\n",
    "height = pyip.inputInt(\"請輸入身高(公分,120-250):\")\n",
    "print(height)\n",
    "if not (height<120 or height>250):\n",
    "    print(\"在120-250之間\")\n",
    "else:\n",
    "    print(\"不在範圍內\")"
   ]
  },
  {
   "cell_type": "code",
   "execution_count": null,
   "metadata": {},
   "outputs": [],
   "source": []
  }
 ],
 "metadata": {
  "kernelspec": {
   "display_name": "Python 3",
   "language": "python",
   "name": "python3"
  },
  "language_info": {
   "codemirror_mode": {
    "name": "ipython",
    "version": 3
   },
   "file_extension": ".py",
   "mimetype": "text/x-python",
   "name": "python",
   "nbconvert_exporter": "python",
   "pygments_lexer": "ipython3",
   "version": "3.10.13"
  }
 },
 "nbformat": 4,
 "nbformat_minor": 2
}
