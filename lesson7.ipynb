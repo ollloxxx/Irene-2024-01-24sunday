{
 "cells": [
  {
   "cell_type": "code",
   "execution_count": 1,
   "metadata": {},
   "outputs": [
    {
     "name": "stdout",
     "output_type": "stream",
     "text": [
      "你的bmi是:18.94\n",
      "你的體重:體重正常\n",
      "程式結束\n"
     ]
    }
   ],
   "source": [
    "##功課講解\n",
    "try:\n",
    "    h = int(input(\"請輸入身高(公分,120-250):\"))\n",
    "    w = int(input(\"請輸入公斤(公斤,30-250):\"))\n",
    "    if (h >=120 and h<=250) and (w >=30 and w <=250):\n",
    "        bmi = w/(h/100)**2\n",
    "        print(f'你的bmi是:{bmi:.2f}')\n",
    "        if bmi <18.5:\n",
    "            print(\"你的體重:體重過輕\")\n",
    "        elif bmi<24:\n",
    "            print(\"你的體重:體重正常\")\n",
    "        elif bmi<27:\n",
    "            print(\"你的體重:過重\")\n",
    "        elif bmi<30:\n",
    "            print(\"你的體重:輕度肥胖\")\n",
    "        elif bmi<35:\n",
    "            print(\"你的體重:中度肥胖\")\n",
    "    else:\n",
    "        print(\"身高或體重超出範圍\")\n",
    "except:\n",
    "    print(\"輸入的格式有問題\")\n",
    "print(\"程式結束\")\n",
    "        "
   ]
  }
 ],
 "metadata": {
  "kernelspec": {
   "display_name": "Python 3",
   "language": "python",
   "name": "python3"
  },
  "language_info": {
   "codemirror_mode": {
    "name": "ipython",
    "version": 3
   },
   "file_extension": ".py",
   "mimetype": "text/x-python",
   "name": "python",
   "nbconvert_exporter": "python",
   "pygments_lexer": "ipython3",
   "version": "3.10.13"
  }
 },
 "nbformat": 4,
 "nbformat_minor": 2
}
