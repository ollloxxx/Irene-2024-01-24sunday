{
 "cells": [
  {
   "cell_type": "code",
   "execution_count": 2,
   "metadata": {},
   "outputs": [
    {
     "name": "stdout",
     "output_type": "stream",
     "text": [
      "請輸入數字:200\n"
     ]
    }
   ],
   "source": [
    "import pyinputplus as pyip\n",
    "#引數名稱的呼叫\n",
    "value =pyip.inputNum(prompt=\"請輸入數字:\",min=0,max=300)\n",
    "print(value)\n"
   ]
  },
  {
   "cell_type": "code",
   "execution_count": 1,
   "metadata": {},
   "outputs": [
    {
     "name": "stdout",
     "output_type": "stream",
     "text": [
      "請輸入數字:200\n"
     ]
    }
   ],
   "source": [
    "import pyinputplus as pyip\n",
    "#引數名稱的呼叫，可以\"不依照\"參數的順序\n",
    "value =pyip.inputNum(max=300,min=0,prompt=\"請輸入數字:\")\n",
    "print(value)"
   ]
  },
  {
   "cell_type": "code",
   "execution_count": 13,
   "metadata": {},
   "outputs": [
    {
     "name": "stdout",
     "output_type": "stream",
     "text": [
      "請輸入數字:200\n"
     ]
    }
   ],
   "source": [
    "#引數值的呼叫，是\"依照\"參數的順序\n",
    "value = pyip.inputNum(\"請輸入數字:\",10)\n",
    "print(value)"
   ]
  },
  {
   "cell_type": "code",
   "execution_count": 14,
   "metadata": {},
   "outputs": [
    {
     "name": "stdout",
     "output_type": "stream",
     "text": [
      "請輸入數字:250\n"
     ]
    }
   ],
   "source": [
    "#混合呼叫，是\"依照\"參數順序；若中間使用引數名稱的呼叫即可不按照順序 可以先max 再 min 這就要混合呼叫\n",
    "value = pyip.inputNum(\"請輸入數字:\",max=300,min=0)\n",
    "print(value)"
   ]
  },
  {
   "cell_type": "code",
   "execution_count": 18,
   "metadata": {},
   "outputs": [
    {
     "name": "stdout",
     "output_type": "stream",
     "text": [
      "請輸入yes,no:yes\n"
     ]
    }
   ],
   "source": [
    "is_yes = pyip.inputYesNo(\"請輸入yes,no:\")\n",
    "print(is_yes)"
   ]
  },
  {
   "cell_type": "code",
   "execution_count": 23,
   "metadata": {},
   "outputs": [
    {
     "name": "stdout",
     "output_type": "stream",
     "text": [
      "請輸入下列3個(早上,中午,下午):中午好!\n"
     ]
    }
   ],
   "source": [
    "state = pyip.inputChoice([\"早上\",\"中午\",\"下午\"],\"請輸入下列3個(早上,中午,下午):\")\n",
    "print(f\"{state}好!\")"
   ]
  },
  {
   "cell_type": "code",
   "execution_count": null,
   "metadata": {},
   "outputs": [],
   "source": [
    "\n",
    "state = pyip.inputChoice(choices=[\"早上\",\"中午\",\"下午\"],prompt=\"請輸入下列3個(早上,中午,下午):\")\n",
    "print(f\"{state}好!\")"
   ]
  },
  {
   "cell_type": "code",
   "execution_count": null,
   "metadata": {},
   "outputs": [],
   "source": [
    "state = pyip.inputChoice([\"早上\",\"中午\",\"下午\"],prompt=\"請輸入下列3個(早上,中午,下午):\")\n",
    "print(f\"{state}好!\")"
   ]
  },
  {
   "cell_type": "code",
   "execution_count": 40,
   "metadata": {},
   "outputs": [
    {
     "name": "stdout",
     "output_type": "stream",
     "text": [
      "請輸入下列3個:\n",
      "1. 早上\n",
      "2. 中午\n",
      "3. 下午\n",
      "中午\n"
     ]
    }
   ],
   "source": [
    "state = pyip.inputMenu([\"早上\",\"中午\",\"下午\"],\n",
    "               prompt=\"請輸入下列3個:\\n\",\n",
    "               numbered=True\n",
    "               )\n",
    "print(state)"
   ]
  },
  {
   "cell_type": "code",
   "execution_count": 41,
   "metadata": {},
   "outputs": [
    {
     "name": "stdout",
     "output_type": "stream",
     "text": [
      "請輸入下列3個:\n",
      "1. 早上\n",
      "2. 中午\n",
      "3. 下午\n",
      "'1.' is not a valid choice.\n",
      "請輸入下列3個:\n",
      "1. 早上\n",
      "2. 中午\n",
      "3. 下午\n",
      "早上\n"
     ]
    }
   ],
   "source": [
    "state = pyip.inputMenu([\"早上\",\"中午\",\"下午\"],\n",
    "               prompt=\"請輸入下列3個:\\n\",\n",
    "               numbered=True,\n",
    "               blank=True,\n",
    "               )\n",
    "print(state)"
   ]
  }
 ],
 "metadata": {
  "kernelspec": {
   "display_name": "Python 3",
   "language": "python",
   "name": "python3"
  },
  "language_info": {
   "codemirror_mode": {
    "name": "ipython",
    "version": 3
   },
   "file_extension": ".py",
   "mimetype": "text/x-python",
   "name": "python",
   "nbconvert_exporter": "python",
   "pygments_lexer": "ipython3",
   "version": "3.10.13"
  }
 },
 "nbformat": 4,
 "nbformat_minor": 2
}
