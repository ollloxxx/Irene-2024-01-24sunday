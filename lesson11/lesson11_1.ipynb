{
 "cells": [
  {
   "cell_type": "code",
   "execution_count": null,
   "metadata": {},
   "outputs": [],
   "source": [
    "import random\n",
    "students:list[dict] = []\n",
    "\n",
    "for _ in range(50):\n",
    "   student = {'國文':random.randint(50,100),\n",
    "              '英文':random.randint(50,100),\n",
    "              '數學':random.randint(50,100)}\n",
    "   students.append(student)\n",
    "students"
   ]
  },
  {
   "cell_type": "code",
   "execution_count": null,
   "metadata": {},
   "outputs": [],
   "source": [
    "import random\n",
    "students:list[dict] = []\n",
    "\n",
    "for _ in range(50):\n",
    "   student = {}\n",
    "   student['國文'] = random.randint(50,100)\n",
    "   student['英文'] = random.randint(50,100)\n",
    "   student['數學'] = random.randint(50,100)\n",
    "   students.append(student)\n",
    "students"
   ]
  },
  {
   "cell_type": "code",
   "execution_count": null,
   "metadata": {},
   "outputs": [],
   "source": [
    "#以上兩個寫法都可以 但這個寫法答案一樣卻更有效率\n",
    "import random\n",
    "students:list[dict] = []\n",
    "\n",
    "for _ in range(50):\n",
    "    student:dict[str,int] = {}\n",
    "    for subject in ['國文','英文','數學']:\n",
    "        student[subject] = random.randint(50,100)\n",
    "    students.append(student)\n",
    "students"
   ]
  },
  {
   "cell_type": "code",
   "execution_count": null,
   "metadata": {},
   "outputs": [],
   "source": [
    "#利用之前pyinputplus的軟件 用輸入的方式讓學生人數更靈活的可以不是固定幾位\n",
    "import pyinputplus as pyip\n",
    "import random\n",
    "\n",
    "nums = pyip.inputInt(\"請輸入學生數量:\")\n",
    "students:list[dict] = []\n",
    "for _ in range(nums):\n",
    "    student:dict[str,int] = {}\n",
    "    for subject in ['國文','英文','數學']:\n",
    "        student[subject] = random.randint(50,100)\n",
    "    students.append(student)\n",
    "students"
   ]
  }
 ],
 "metadata": {
  "kernelspec": {
   "display_name": "Python 3",
   "language": "python",
   "name": "python3"
  },
  "language_info": {
   "codemirror_mode": {
    "name": "ipython",
    "version": 3
   },
   "file_extension": ".py",
   "mimetype": "text/x-python",
   "name": "python",
   "nbconvert_exporter": "python",
   "pygments_lexer": "ipython3",
   "version": "3.10.13"
  }
 },
 "nbformat": 4,
 "nbformat_minor": 2
}
