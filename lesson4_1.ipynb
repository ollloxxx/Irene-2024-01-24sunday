{
 "cells": [
  {
   "cell_type": "code",
   "execution_count": 24,
   "metadata": {},
   "outputs": [
    {
     "name": "stdout",
     "output_type": "stream",
     "text": [
      "斜邊:50,對邊:25\n",
      "角度是:30.0\n"
     ]
    }
   ],
   "source": [
    "# eval可輸入整數及浮點數的值\n",
    "#內鍵輸入函數 在前面必須輸入import 才有辦法帶入內鍵函數 \n",
    "import math\n",
    "side1 = eval(input(\"請輸入直角三角形的斜邊\"))\n",
    "side2 = eval(input(\"請輸入直角三角形的對邊\"))\n",
    "radian = math.asin(side2 / side1)\n",
    "degree = math.degrees(radian)\n",
    "print(f\"斜邊:{side1},對邊:{side2}\")\n",
    "print(f\"角度是:{degree:.1f}\")"
   ]
  },
  {
   "cell_type": "code",
   "execution_count": 23,
   "metadata": {},
   "outputs": [
    {
     "name": "stdout",
     "output_type": "stream",
     "text": [
      "1,3,5,7,9,11,57,100的平均24.125\n",
      "1,3,5,7,9,11,57,100的中間值8.0\n",
      "1,3,5,7,9,11,57,100的中間值35.61475416573466\n"
     ]
    }
   ],
   "source": [
    "import statistics\n",
    "#[1, 3, 5, 7, 9, 11] \n",
    "#平均\n",
    "mean_value  = statistics.mean([1, 3, 5, 7, 9, 11, 57, 100] ) \n",
    "print(f'1,3,5,7,9,11,57,100的平均{mean_value}')\n",
    "\n",
    "#中間數\n",
    "median_value = statistics.median([1, 3, 5, 7, 9, 11, 57, 100])\n",
    "print(f'1,3,5,7,9,11,57,100的中間值{median_value}')\n",
    "\n",
    "#標準差\n",
    "std_value = statistics.stdev([1, 3, 5, 7, 9, 11, 57, 100])\n",
    "print(f'1,3,5,7,9,11,57,100的中間值{std_value}')"
   ]
  }
 ],
 "metadata": {
  "kernelspec": {
   "display_name": "Python 3",
   "language": "python",
   "name": "python3"
  },
  "language_info": {
   "codemirror_mode": {
    "name": "ipython",
    "version": 3
   },
   "file_extension": ".py",
   "mimetype": "text/x-python",
   "name": "python",
   "nbconvert_exporter": "python",
   "pygments_lexer": "ipython3",
   "version": "3.10.13"
  }
 },
 "nbformat": 4,
 "nbformat_minor": 2
}
