{
 "cells": [
  {
   "cell_type": "code",
   "execution_count": 2,
   "metadata": {},
   "outputs": [
    {
     "data": {
      "text/plain": [
       "True"
      ]
     },
     "execution_count": 2,
     "metadata": {},
     "output_type": "execute_result"
    }
   ],
   "source": [
    "\n",
    "#比較(關係)運算子\n",
    "5 > 3"
   ]
  },
  {
   "cell_type": "code",
   "execution_count": 3,
   "metadata": {},
   "outputs": [
    {
     "data": {
      "text/plain": [
       "False"
      ]
     },
     "execution_count": 3,
     "metadata": {},
     "output_type": "execute_result"
    }
   ],
   "source": [
    "5 < 3"
   ]
  },
  {
   "cell_type": "code",
   "execution_count": 4,
   "metadata": {},
   "outputs": [
    {
     "data": {
      "text/plain": [
       "True"
      ]
     },
     "execution_count": 4,
     "metadata": {},
     "output_type": "execute_result"
    }
   ],
   "source": [
    "5 == 5"
   ]
  },
  {
   "cell_type": "code",
   "execution_count": 5,
   "metadata": {},
   "outputs": [
    {
     "data": {
      "text/plain": [
       "False"
      ]
     },
     "execution_count": 5,
     "metadata": {},
     "output_type": "execute_result"
    }
   ],
   "source": [
    "5 != 5\n"
   ]
  },
  {
   "cell_type": "code",
   "execution_count": 6,
   "metadata": {},
   "outputs": [
    {
     "name": "stdout",
     "output_type": "stream",
     "text": [
      "程式開始\n",
      "5>3\n",
      "5真的大於3\n",
      "程式結束\n"
     ]
    }
   ],
   "source": [
    "print(\"程式開始\")\n",
    "#單項選擇 True的程式區塊有可能執行，也有可能不執行\n",
    "if 5 > 3:\n",
    "    print(\"5>3\")\n",
    "    print(\"5真的大於3\")\n",
    "\n",
    "print(\"程式結束\")"
   ]
  },
  {
   "cell_type": "code",
   "execution_count": 12,
   "metadata": {},
   "outputs": [
    {
     "name": "stdout",
     "output_type": "stream",
     "text": [
      "程式開始\n",
      "5>3\n",
      "5真的大於3\n",
      "程式結束\n"
     ]
    }
   ],
   "source": [
    "print(\"程式開始\")\n",
    "#雙項選擇 2個城市區塊一定值執行其中一個\n",
    "if 5 > 3:\n",
    "    #True的程式區塊\n",
    "    print(\"5>3\")\n",
    "    print(\"5真的大於3\")\n",
    "else:\n",
    "    #False的程式區塊\n",
    "    print(\"失敗\")\n",
    "\n",
    "print(\"程式結束\")"
   ]
  },
  {
   "cell_type": "code",
   "execution_count": 16,
   "metadata": {},
   "outputs": [
    {
     "name": "stdout",
     "output_type": "stream",
     "text": [
      "學生總分為368\n"
     ]
    }
   ],
   "source": [
    "#學生總分為300分\n",
    "#有些學生可以加分5%\n",
    "#type hint 資料型別的提醒 (可有可無)\n",
    "scores:int = int(input(\"請輸入學生分數(最高300分):\"))\n",
    "is_add:str = input(\"學生是否符合加分條件?(y,n):\")\n",
    "\n",
    "#單項選擇\n",
    "if is_add ==\"y\":\n",
    "    scores *=1.05\n",
    "print(f\"學生總分為{scores:.0f}\")"
   ]
  },
  {
   "cell_type": "code",
   "execution_count": 30,
   "metadata": {},
   "outputs": [
    {
     "name": "stdout",
     "output_type": "stream",
     "text": [
      "學生總分為300\n"
     ]
    }
   ],
   "source": [
    "#學生總分為300\n",
    "#有些學生可以加分5%\n",
    "#如果加分超過300分,就是300分\n",
    "\n",
    "#type hint\n",
    "#資料型別的提醒\n",
    "\n",
    "scores:int = int(input(\"請輸入學生分數(最高300分):\"))\n",
    "is_add:str = input(\"學生是否符合加分條件?(y,n):\")\n",
    "\n",
    "#多個條件,使用巢項判斷\n",
    "if is_add == 'y':\n",
    "    scores *= 1.05\n",
    "    if scores > 300:\n",
    "        scores = 300\n",
    "\n",
    "print(f\"學生總分為{scores:.0f}\")"
   ]
  },
  {
   "cell_type": "code",
   "execution_count": 54,
   "metadata": {},
   "outputs": [
    {
     "name": "stdout",
     "output_type": "stream",
     "text": [
      "它是貓\n"
     ]
    }
   ],
   "source": [
    "#is_furry = input(\"請問動物有毛嗎?(y,n)\")\n",
    "#is_small = input(\"請問動物是小的嗎?(y,n)\")\n",
    "#如果動物是有毛,是小的輸出(它是貓)\n",
    "#如果動物是有毛,是大的輸出(它是熊)\n",
    "#如果動物是沒有毛,是小的輸出(它是小蜥蜴)\n",
    "#如果動物是沒有毛,是大的輸出(它是人類或沒有毛的熊)\n",
    "\n",
    "is_furry:str = input(\"請問動物有毛嗎?(y,n)\")\n",
    "is_small:str = input(\"請問動物是小的嗎?(y,n)\")\n",
    "\n",
    "if is_furry == 'y':\n",
    "    if is_small == 'y':\n",
    "        print(\"它是貓\")\n",
    "    else:\n",
    "        print(\"它是熊\")\n",
    "else:\n",
    "    if is_small == 'y':\n",
    "        print(\"它是小蜥蜴\")\n",
    "    else:\n",
    "        print(\"它是人類或沒有毛的熊\")\n"
   ]
  }
 ],
 "metadata": {
  "kernelspec": {
   "display_name": "Python 3",
   "language": "python",
   "name": "python3"
  },
  "language_info": {
   "codemirror_mode": {
    "name": "ipython",
    "version": 3
   },
   "file_extension": ".py",
   "mimetype": "text/x-python",
   "name": "python",
   "nbconvert_exporter": "python",
   "pygments_lexer": "ipython3",
   "version": "3.10.13"
  }
 },
 "nbformat": 4,
 "nbformat_minor": 2
}
