{
 "cells": [
  {
   "cell_type": "code",
   "execution_count": 3,
   "metadata": {},
   "outputs": [
    {
     "name": "stdout",
     "output_type": "stream",
     "text": [
      "請輸入數字:\n"
     ]
    },
    {
     "data": {
      "text/plain": [
       "1"
      ]
     },
     "execution_count": 3,
     "metadata": {},
     "output_type": "execute_result"
    }
   ],
   "source": [
    "#若要使用外部套件 則需要建立檔案為requirements.txt(描述檔)\n",
    "#pip是套件管理程式 \n",
    "#可以用小名as 給它一個pyip 逝去pip(外部函數說明書)搜尋就有輸入的小名\n",
    "#pyip.inputNum()這外部函數就是已經幫你檢查只要是數字或是浮點數都可以，就不用再寫try 或是需要再寫一行去判斷是文字還是數值了\n",
    "import pyinputplus as pyip \n",
    "print(\"請輸入數字:\")\n",
    "result = pyip.inputNum()\n",
    "result "
   ]
  },
  {
   "cell_type": "code",
   "execution_count": 4,
   "metadata": {},
   "outputs": [
    {
     "name": "stdout",
     "output_type": "stream",
     "text": [
      "Help on function inputNum in module pyinputplus:\n",
      "\n",
      "inputNum(prompt='', default=None, blank=False, timeout=None, limit=None, strip=None, allowRegexes=None, blockRegexes=None, applyFunc=None, postValidateApplyFunc=None, min=None, max=None, greaterThan=None, lessThan=None)\n",
      "    Prompts the user to enter a number, either an integer or a floating-point\n",
      "    value. Returns an int or float value (depending on if the user entered a\n",
      "    decimal in their input.)\n",
      "    \n",
      "    Run ``help(pyinputplus.parameters)`` for an explanation of the common parameters.\n",
      "    \n",
      "    * ``min`` (None, float): If not ``None``, the minimum accepted numeric value, including the minimum argument.\n",
      "    * ``max`` (None, float): If not ``None``, the maximum accepted numeric value, including the maximum argument.\n",
      "    * ``greaterThan`` (None, float): If not ``None``, the minimum accepted numeric value, not including the ``greaterThan`` argument.\n",
      "    * ``lessThan`` (None, float): If not ``None``, the maximum accepted numeric value, not including the ``lessThan`` argument.\n",
      "    \n",
      "    >>> import pyinputplus as pyip\n",
      "    >>> response = pyip.inputNum()\n",
      "    forty two\n",
      "    'forty two' is not a number.\n",
      "    42\n",
      "    >>> response\n",
      "    42\n",
      "    >>> response = pyip.inputNum()\n",
      "    9\n",
      "    >>> type(response)\n",
      "    <class 'int'>\n",
      "    >>> response = pyip.inputNum()\n",
      "    9.0\n",
      "    >>> type(response)\n",
      "    <class 'float'>\n",
      "    >>> response = pyip.inputNum(min=4)\n",
      "    3\n",
      "    Number must be at minimum 4.\n",
      "    4\n",
      "    >>> response\n",
      "    4\n",
      "    >>> response = pyip.inputNum(greaterThan=4)\n",
      "    4\n",
      "    Number must be greater than 4.\n",
      "    4.1\n",
      "    >>> response\n",
      "    4.1\n",
      "    >>> response = pyip.inputNum(limit=2)\n",
      "    dog\n",
      "    'dog' is not a number.\n",
      "    cat\n",
      "    'cat' is not a number.\n",
      "    Traceback (most recent call last):\n",
      "        ...\n",
      "    pyinputplus.RetryLimitException\n",
      "\n"
     ]
    }
   ],
   "source": [
    "#help就是跑出說明書\n",
    "help(pyip.inputNum)"
   ]
  },
  {
   "cell_type": "code",
   "execution_count": 5,
   "metadata": {},
   "outputs": [
    {
     "name": "stdout",
     "output_type": "stream",
     "text": [
      "請輸入數字:123\n"
     ]
    }
   ],
   "source": [
    "value =pyip.inputNum(prompt=\"請輸入數字:\",min=0,max=300)\n",
    "print(value)"
   ]
  },
  {
   "cell_type": "code",
   "execution_count": null,
   "metadata": {},
   "outputs": [],
   "source": []
  }
 ],
 "metadata": {
  "kernelspec": {
   "display_name": "Python 3",
   "language": "python",
   "name": "python3"
  },
  "language_info": {
   "codemirror_mode": {
    "name": "ipython",
    "version": 3
   },
   "file_extension": ".py",
   "mimetype": "text/x-python",
   "name": "python",
   "nbconvert_exporter": "python",
   "pygments_lexer": "ipython3",
   "version": "3.10.13"
  }
 },
 "nbformat": 4,
 "nbformat_minor": 2
}
