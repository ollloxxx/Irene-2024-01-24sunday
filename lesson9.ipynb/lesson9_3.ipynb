{
 "cells": [
  {
   "cell_type": "code",
   "execution_count": 2,
   "metadata": {},
   "outputs": [
    {
     "name": "stdout",
     "output_type": "stream",
     "text": [
      "[['筆記電腦', '商用電腦', '電競比電'], ['apple', 'ASUS', 'HTC'], ['冰箱', '洗衣機', '電視']]\n"
     ]
    }
   ],
   "source": [
    "from pprint import pprint\n",
    "nb: list[str] = ['筆記電腦','商用電腦', '電競比電'] #type hint\n",
    "mobile: list[str] = ['apple','ASUS','HTC']\n",
    "home: list[str] = ['冰箱','洗衣機' , '電視']\n",
    "\n",
    "all3c = [nb, mobile, home]\n",
    "pprint(all3c)"
   ]
  },
  {
   "cell_type": "code",
   "execution_count": 4,
   "metadata": {},
   "outputs": [
    {
     "data": {
      "text/plain": [
       "[['筆記電腦', '商用電腦', '電競比電'], ['apple', 'ASUS', 'HTC'], ['冰箱', '洗衣機', '電視']]"
      ]
     },
     "execution_count": 4,
     "metadata": {},
     "output_type": "execute_result"
    }
   ],
   "source": [
    "#使用list的實體方法,append\n",
    "all3c: list[list[str]] = [] #是list的實體方法不能叫做funtion\n",
    "all3c.append(nb)\n",
    "all3c.append(mobile)\n",
    "all3c.append(home)\n",
    "all3c\n"
   ]
  },
  {
   "cell_type": "code",
   "execution_count": 6,
   "metadata": {},
   "outputs": [
    {
     "data": {
      "text/plain": [
       "4"
      ]
     },
     "execution_count": 6,
     "metadata": {},
     "output_type": "execute_result"
    }
   ],
   "source": [
    "\n",
    "input() #內鍵funtion\n",
    "import math #mudule\n",
    "math.ceil(3.256) #mudule裡的定義\n"
   ]
  },
  {
   "cell_type": "code",
   "execution_count": 13,
   "metadata": {},
   "outputs": [
    {
     "data": {
      "text/plain": [
       "[89, 56, 81, 66, 97]"
      ]
     },
     "execution_count": 13,
     "metadata": {},
     "output_type": "execute_result"
    }
   ],
   "source": [
    "from random import randint\n",
    "stu1: list[int] = [randint(50,100),randint(50,100),randint(50,100),randint(50,100),randint(50,100)]\n",
    "stu1"
   ]
  },
  {
   "cell_type": "code",
   "execution_count": 14,
   "metadata": {},
   "outputs": [
    {
     "data": {
      "text/plain": [
       "[100, 52, 71, 100, 71]"
      ]
     },
     "execution_count": 14,
     "metadata": {},
     "output_type": "execute_result"
    }
   ],
   "source": [
    "stu2: list[int] = []\n",
    "for _ in range(5):  #其實在這是沒用到i所以把i改成_變成未用到的省略運算子\n",
    "    stu2.append(randint(50,100))\n",
    "stu2"
   ]
  },
  {
   "cell_type": "code",
   "execution_count": 16,
   "metadata": {},
   "outputs": [
    {
     "data": {
      "text/plain": [
       "[73, 53, 95, 53, 80]"
      ]
     },
     "execution_count": 16,
     "metadata": {},
     "output_type": "execute_result"
    }
   ],
   "source": [
    "#list comprehension -> 快速建立list\n",
    "#[值 for...in...]\n",
    "stu3: list[int] = [randint(50,100) for _ in range(5)]\n",
    "stu3"
   ]
  },
  {
   "cell_type": "code",
   "execution_count": 17,
   "metadata": {},
   "outputs": [
    {
     "name": "stdout",
     "output_type": "stream",
     "text": [
      "[[63, 70, 66, 89, 80],\n",
      " [85, 66, 52, 77, 67],\n",
      " [75, 54, 83, 95, 52],\n",
      " [90, 95, 67, 63, 72],\n",
      " [68, 96, 77, 77, 78],\n",
      " [64, 66, 78, 57, 91],\n",
      " [64, 84, 66, 89, 78],\n",
      " [73, 87, 100, 69, 100],\n",
      " [99, 68, 84, 96, 75],\n",
      " [67, 95, 93, 81, 50],\n",
      " [73, 93, 67, 63, 75],\n",
      " [90, 80, 83, 56, 98],\n",
      " [93, 73, 74, 69, 69],\n",
      " [93, 92, 77, 59, 81],\n",
      " [97, 83, 84, 65, 82],\n",
      " [94, 68, 50, 74, 69],\n",
      " [54, 79, 93, 61, 89],\n",
      " [68, 62, 81, 83, 61],\n",
      " [82, 50, 82, 80, 98],\n",
      " [84, 100, 68, 67, 73],\n",
      " [54, 75, 73, 76, 82],\n",
      " [78, 95, 70, 62, 59],\n",
      " [94, 50, 67, 61, 78],\n",
      " [50, 89, 76, 63, 89],\n",
      " [73, 61, 99, 63, 69],\n",
      " [90, 74, 97, 78, 52],\n",
      " [72, 78, 52, 85, 79],\n",
      " [81, 100, 94, 58, 97],\n",
      " [75, 62, 75, 64, 65],\n",
      " [84, 77, 58, 90, 57],\n",
      " [90, 99, 88, 81, 70],\n",
      " [87, 54, 74, 80, 58],\n",
      " [80, 89, 91, 60, 65],\n",
      " [99, 52, 68, 53, 80],\n",
      " [99, 82, 51, 75, 86],\n",
      " [68, 56, 73, 85, 59],\n",
      " [57, 97, 64, 77, 97],\n",
      " [91, 72, 79, 64, 60],\n",
      " [65, 79, 96, 70, 99],\n",
      " [57, 88, 87, 55, 92],\n",
      " [52, 90, 70, 55, 96],\n",
      " [74, 60, 78, 72, 62],\n",
      " [59, 78, 76, 51, 55],\n",
      " [74, 86, 51, 83, 58],\n",
      " [87, 54, 76, 50, 97],\n",
      " [99, 95, 67, 93, 82],\n",
      " [100, 72, 94, 53, 97],\n",
      " [69, 58, 79, 63, 87],\n",
      " [82, 88, 98, 79, 65],\n",
      " [50, 61, 77, 55, 89]]\n"
     ]
    }
   ],
   "source": [
    "from pprint import pprint\n",
    "\n",
    "students:list[list[int]] = []\n",
    "for _ in range(50):\n",
    "    stu: list[int] = [randint(50,100) for _ in range(5)]\n",
    "    students.append(stu)\n",
    "\n",
    "pprint(students)"
   ]
  }
 ],
 "metadata": {
  "kernelspec": {
   "display_name": "Python 3",
   "language": "python",
   "name": "python3"
  },
  "language_info": {
   "codemirror_mode": {
    "name": "ipython",
    "version": 3
   },
   "file_extension": ".py",
   "mimetype": "text/x-python",
   "name": "python",
   "nbconvert_exporter": "python",
   "pygments_lexer": "ipython3",
   "version": "3.10.13"
  }
 },
 "nbformat": 4,
 "nbformat_minor": 2
}
