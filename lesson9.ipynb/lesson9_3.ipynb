{
 "cells": [
  {
   "cell_type": "code",
   "execution_count": 2,
   "metadata": {},
   "outputs": [
    {
     "name": "stdout",
     "output_type": "stream",
     "text": [
      "[['筆記電腦', '商用電腦', '電競比電'], ['apple', 'ASUS', 'HTC'], ['冰箱', '洗衣機', '電視']]\n"
     ]
    }
   ],
   "source": [
    "from pprint import pprint\n",
    "nb: list[str] = ['筆記電腦','商用電腦', '電競比電'] #type hint\n",
    "mobile: list[str] = ['apple','ASUS','HTC']\n",
    "home: list[str] = ['冰箱','洗衣機' , '電視']\n",
    "\n",
    "all3c = [nb, mobile, home]\n",
    "pprint(all3c)"
   ]
  },
  {
   "cell_type": "code",
   "execution_count": 4,
   "metadata": {},
   "outputs": [
    {
     "data": {
      "text/plain": [
       "[['筆記電腦', '商用電腦', '電競比電'], ['apple', 'ASUS', 'HTC'], ['冰箱', '洗衣機', '電視']]"
      ]
     },
     "execution_count": 4,
     "metadata": {},
     "output_type": "execute_result"
    }
   ],
   "source": [
    "#使用list的實體方法,append\n",
    "all3c: list[list[str]] = [] #是list的實體方法不能叫做funtion\n",
    "all3c.append(nb)\n",
    "all3c.append(mobile)\n",
    "all3c.append(home)\n",
    "all3c\n"
   ]
  },
  {
   "cell_type": "code",
   "execution_count": 6,
   "metadata": {},
   "outputs": [
    {
     "data": {
      "text/plain": [
       "4"
      ]
     },
     "execution_count": 6,
     "metadata": {},
     "output_type": "execute_result"
    }
   ],
   "source": [
    "\n",
    "input() #內鍵funtion\n",
    "import math #mudule\n",
    "math.ceil(3.256) #mudule裡的定義\n"
   ]
  },
  {
   "cell_type": "code",
   "execution_count": 13,
   "metadata": {},
   "outputs": [
    {
     "data": {
      "text/plain": [
       "[89, 56, 81, 66, 97]"
      ]
     },
     "execution_count": 13,
     "metadata": {},
     "output_type": "execute_result"
    }
   ],
   "source": [
    "from random import randint\n",
    "stu1: list[int] = [randint(50,100),randint(50,100),randint(50,100),randint(50,100),randint(50,100)]\n",
    "stu1"
   ]
  },
  {
   "cell_type": "code",
   "execution_count": 14,
   "metadata": {},
   "outputs": [
    {
     "data": {
      "text/plain": [
       "[100, 52, 71, 100, 71]"
      ]
     },
     "execution_count": 14,
     "metadata": {},
     "output_type": "execute_result"
    }
   ],
   "source": [
    "stu2: list[int] = []\n",
    "for i in range(5):\n",
    "    stu2.append(randint(50,100))\n",
    "stu2"
   ]
  }
 ],
 "metadata": {
  "kernelspec": {
   "display_name": "Python 3",
   "language": "python",
   "name": "python3"
  },
  "language_info": {
   "codemirror_mode": {
    "name": "ipython",
    "version": 3
   },
   "file_extension": ".py",
   "mimetype": "text/x-python",
   "name": "python",
   "nbconvert_exporter": "python",
   "pygments_lexer": "ipython3",
   "version": "3.10.13"
  }
 },
 "nbformat": 4,
 "nbformat_minor": 2
}
