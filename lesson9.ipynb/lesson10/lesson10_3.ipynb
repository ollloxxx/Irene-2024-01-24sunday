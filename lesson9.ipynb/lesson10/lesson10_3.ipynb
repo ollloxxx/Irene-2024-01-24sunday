{
 "cells": [
  {
   "cell_type": "code",
   "execution_count": 2,
   "metadata": {},
   "outputs": [
    {
     "name": "stdout",
     "output_type": "stream",
     "text": [
      "file物件被關閉\n"
     ]
    }
   ],
   "source": [
    "\n",
    "try:\n",
    "    file = open('names.txt',encoding='utf-8')\n",
    "    #處理file實體\n",
    "finally:\n",
    "    file.close() #實體方法\n",
    "    if file.closed:#實體屬性\n",
    "        print('file物件被關閉')\n",
    "    else:\n",
    "        print('file物件沒有關閉')"
   ]
  },
  {
   "cell_type": "code",
   "execution_count": null,
   "metadata": {},
   "outputs": [],
   "source": [
    "with open('names.txt',encoding='utf-8') as file:  #實體方法\n",
    "    display(file.read())\n",
    "#跳出程式區塊會自動close()   \n",
    "if file.closed:\n",
    "    print('file物件被關閉')\n",
    "else:\n",
    "    print('file物件沒有關閉')"
   ]
  },
  {
   "cell_type": "code",
   "execution_count": null,
   "metadata": {},
   "outputs": [],
   "source": [
    "with open('names.txt',encoding='utf-8') as file:  #實體方法\n",
    "    display(file.readline())\n",
    "    display(file.readline())\n",
    "    display(file.readline())\n",
    "    display(file.readline())\n",
    "#跳出程式區塊會自動close()   \n",
    "if file.closed:\n",
    "    print('file物件被關閉')\n",
    "else:\n",
    "    print('file物件沒有關閉')"
   ]
  },
  {
   "cell_type": "code",
   "execution_count": null,
   "metadata": {},
   "outputs": [],
   "source": [
    "with open('names.txt',encoding='utf-8') as file: #實體方法\n",
    "    for i in file:\n",
    "        display(i)\n",
    "#跳出程式區塊會自動close()   \n",
    "if file.closed:\n",
    "    print('file物件被關閉')\n",
    "else:\n",
    "    print('file物件沒有關閉')"
   ]
  },
  {
   "cell_type": "code",
   "execution_count": null,
   "metadata": {},
   "outputs": [],
   "source": [
    "with open('names.txt',encoding='utf-8') as file:\n",
    "    names: str = file.read()\n",
    "\n",
    "names"
   ]
  },
  {
   "cell_type": "code",
   "execution_count": null,
   "metadata": {},
   "outputs": [],
   "source": []
  }
 ],
 "metadata": {
  "kernelspec": {
   "display_name": "Python 3",
   "language": "python",
   "name": "python3"
  },
  "language_info": {
   "codemirror_mode": {
    "name": "ipython",
    "version": 3
   },
   "file_extension": ".py",
   "mimetype": "text/x-python",
   "name": "python",
   "nbconvert_exporter": "python",
   "pygments_lexer": "ipython3",
   "version": "3.10.13"
  }
 },
 "nbformat": 4,
 "nbformat_minor": 2
}
