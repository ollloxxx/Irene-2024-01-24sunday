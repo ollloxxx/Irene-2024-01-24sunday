{
 "cells": [
  {
   "cell_type": "code",
   "execution_count": null,
   "metadata": {},
   "outputs": [],
   "source": [
    "#3個數值區段\n",
    "#使用巢狀判斷\n",
    "import pyinputplus as pyip\n",
    "scores = pyip.inputInt(\"請輸入學生分數:\")\n",
    "print(scores)\n",
    "if scores < 60:\n",
    "    print(\"不及格\")\n",
    "else:\n",
    "    if scores>=60 and scores<80:\n",
    "        print(\"甲\")\n",
    "    else:\n",
    "        print(\"優\")"
   ]
  },
  {
   "cell_type": "code",
   "execution_count": null,
   "metadata": {},
   "outputs": [
    {
     "name": "stdout",
     "output_type": "stream",
     "text": [
      "請輸入學生分數:50\n",
      "不及格\n"
     ]
    }
   ],
   "source": [
    "#3個數值區段\n",
    " #當esle 裡面有if可以寫成elif 之後直接接布林值 \n",
    "import pyinputplus as pyip\n",
    "scores = pyip.inputInt(\"請輸入學生分數:\")\n",
    "print(scores)\n",
    "if scores <60:\n",
    "    print(\"不及格\")\n",
    "elif scores >=60 and scores <80:\n",
    "    print(\"甲\")\n",
    "else:\n",
    "        print(\"優\")\n"
   ]
  },
  {
   "cell_type": "code",
   "execution_count": null,
   "metadata": {},
   "outputs": [],
   "source": [
    "#3個數值區段 #這個寫法跟上面那個結果是一樣的，但會更進階 也不用一直and or \n",
    "#使用巢狀判斷\n",
    "import pyinputplus as pyip\n",
    "scores = pyip.inputInt(\"請輸入學生分數:\")\n",
    "print(scores)\n",
    "if scores < 60:\n",
    "    print(\"不及格\")\n",
    "elif scores < 80:    \n",
    "    print(\"甲\")\n",
    "else:\n",
    "    print(\"優\")"
   ]
  },
  {
   "cell_type": "code",
   "execution_count": 6,
   "metadata": {},
   "outputs": [],
   "source": [
    "try:\n",
    "    h:float = eval(input(\"請輸入身高(公分)120-250:\"))/100\n",
    "    w:float = eval(input(\"請輸入體重(公斤),30-250:\")) \n",
    "except:\n",
    "    print(\"輸入錯誤數值\")\n",
    "\n",
    "    bmi:float = f\"({w/(h*h)}:.1f)\"\n",
    "    \n",
    "    if bmi <18.5:\n",
    "        str = \"您的體重:過輕\"\n",
    "    elif bmi>=18.5 and bmi< 24:\n",
    "        str = \"您的體重:正常\"\n",
    "    else:\n",
    "        str = \"體重過重\"\n",
    "    print(f\"您的bmi是:{bmi}\",{str})\n",
    "\n",
    "        \n",
    "    "
   ]
  },
  {
   "cell_type": "code",
   "execution_count": 8,
   "metadata": {},
   "outputs": [
    {
     "name": "stdout",
     "output_type": "stream",
     "text": [
      "請輸入身高(公分)120-250:請輸入體重(公斤),30-250:120.0\n",
      "體重過輕\n"
     ]
    }
   ],
   "source": [
    "#3個數值區段 #這個寫法跟上面那個結果是一樣的，但會更進階 也不用一直and or \n",
    "#使用巢狀判斷\n",
    "import pyinputplus as pyip\n",
    "h = pyip.inputInt(\"請輸入身高(公分)120-250:\")/100\n",
    "w = pyip.inputInt(\"請輸入體重(公斤),30-250:\")\n",
    "bmi = w/(h*h)\n",
    "print(bmi)\n",
    "    \n",
    "if bmi > 18.5:\n",
    "    print(\"體重過輕\")\n",
    "elif bmi <=18.5 and bmi>=24:    \n",
    "    print(\"正常範圍\")\n",
    "else:\n",
    "    print(\"體重過重\")"
   ]
  },
  {
   "cell_type": "code",
   "execution_count": null,
   "metadata": {},
   "outputs": [],
   "source": []
  },
  {
   "cell_type": "code",
   "execution_count": null,
   "metadata": {},
   "outputs": [],
   "source": []
  }
 ],
 "metadata": {
  "kernelspec": {
   "display_name": "Python 3",
   "language": "python",
   "name": "python3"
  },
  "language_info": {
   "codemirror_mode": {
    "name": "ipython",
    "version": 3
   },
   "file_extension": ".py",
   "mimetype": "text/x-python",
   "name": "python",
   "nbconvert_exporter": "python",
   "pygments_lexer": "ipython3",
   "version": "3.10.13"
  }
 },
 "nbformat": 4,
 "nbformat_minor": 2
}
