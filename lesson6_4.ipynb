{
 "cells": [
  {
   "cell_type": "code",
   "execution_count": null,
   "metadata": {},
   "outputs": [],
   "source": [
    "#3個數值區段\n",
    "#使用巢狀判斷\n",
    "import pyinputplus as pyip\n",
    "scores = pyip.inputInt(\"請輸入學生分數:\")\n",
    "print(scores)\n",
    "if scores < 60:\n",
    "    print(\"不及格\")\n",
    "else:\n",
    "    if scores>=60 and scores<80:\n",
    "        print(\"甲\")\n",
    "    else:\n",
    "        print(\"優\")"
   ]
  },
  {
   "cell_type": "code",
   "execution_count": 12,
   "metadata": {},
   "outputs": [
    {
     "name": "stdout",
     "output_type": "stream",
     "text": [
      "請輸入學生分數:50\n",
      "不及格\n"
     ]
    }
   ],
   "source": [
    "#3個數值區段\n",
    " #當esle 裡面有if可以寫成elif 之後直接接布林值 \n",
    "import pyinputplus as pyip\n",
    "scores = pyip.inputInt(\"請輸入學生分數:\")\n",
    "print(scores)\n",
    "if scores <60:\n",
    "    print(\"不及格\")\n",
    "elif scores >=60 and scores <80:\n",
    "    print(\"甲\")\n",
    "else:\n",
    "        print(\"優\")\n"
   ]
  },
  {
   "cell_type": "code",
   "execution_count": null,
   "metadata": {},
   "outputs": [],
   "source": [
    "#3個數值區段 #這個寫法跟上面那個結果是一樣的，但會更進階 也不用一直and or \n",
    "#使用巢狀判斷\n",
    "import pyinputplus as pyip\n",
    "scores = pyip.inputInt(\"請輸入學生分數:\")\n",
    "print(scores)\n",
    "if scores < 60:\n",
    "    print(\"不及格\")\n",
    "elif scores < 80:    \n",
    "    print(\"甲\")\n",
    "else:\n",
    "    print(\"優\")"
   ]
  }
 ],
 "metadata": {
  "kernelspec": {
   "display_name": "Python 3",
   "language": "python",
   "name": "python3"
  },
  "language_info": {
   "codemirror_mode": {
    "name": "ipython",
    "version": 3
   },
   "file_extension": ".py",
   "mimetype": "text/x-python",
   "name": "python",
   "nbconvert_exporter": "python",
   "pygments_lexer": "ipython3",
   "version": "3.10.13"
  }
 },
 "nbformat": 4,
 "nbformat_minor": 2
}
