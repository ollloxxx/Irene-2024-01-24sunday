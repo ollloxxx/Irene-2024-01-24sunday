{
 "cells": [
  {
   "cell_type": "code",
   "execution_count": 2,
   "metadata": {},
   "outputs": [
    {
     "name": "stdout",
     "output_type": "stream",
     "text": [
      "學生總分為300\n",
      "程式結束\n"
     ]
    }
   ],
   "source": [
    "#學生總分為300\n",
    "#有些學生可以加分5%\n",
    "#如果加分超過300分,就是300分\n",
    "\n",
    "#type hint 就是:int 或是:str提示它的字串還是數值，通常用於建立變數的時候才會輸入 並不會再if的時候做type hint\n",
    "#資料型別的提醒\n",
    "#字串差補用f 裡面要用大括號\n",
    "#選取區域同步tab會一起往後移，反之取消回移選shift+tab\n",
    "\n",
    "scores:float = eval(input(\"請輸入學生分數(最高300分):\")) \n",
    "if scores<=300:\n",
    "    is_add:str = input(\"學生是否符合加分條件?(y,n):\")\n",
    "\n",
    "    #多個條件,使用巢項判斷\n",
    "    if is_add == 'y':\n",
    "        scores *= 1.05\n",
    "        if scores > 300:\n",
    "            scores = 300\n",
    "\n",
    "    print(f\"學生總分為{scores:.0f}\")\n",
    "else:\n",
    "    print(\"學生分數不可以大於300分\")\n",
    "\n",
    "print(\"程式結束\")"
   ]
  }
 ],
 "metadata": {
  "kernelspec": {
   "display_name": "Python 3",
   "language": "python",
   "name": "python3"
  },
  "language_info": {
   "codemirror_mode": {
    "name": "ipython",
    "version": 3
   },
   "file_extension": ".py",
   "mimetype": "text/x-python",
   "name": "python",
   "nbconvert_exporter": "python",
   "pygments_lexer": "ipython3",
   "version": "3.10.13"
  }
 },
 "nbformat": 4,
 "nbformat_minor": 2
}
