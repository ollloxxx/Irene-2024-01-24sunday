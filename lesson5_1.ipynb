{
 "cells": [
  {
   "cell_type": "code",
   "execution_count": null,
   "metadata": {},
   "outputs": [],
   "source": [
    "#學生總分為300\n",
    "#有些學生可以加分5%\n",
    "#如果加分超過300分,就是300分\n",
    "\n",
    "#type hint 就是:int 或是:str提示它的字串還是數值，通常用於建立變數的時候才會輸入 並不會再if的時候做type hint\n",
    "#資料型別的提醒\n",
    "#字串差補用f 裡面要用大括號\n",
    "\n",
    "scores:int = int(input(\"請輸入學生分數(最高300分):\")) \n",
    "is_add:str = input(\"學生是否符合加分條件?(y,n):\")\n",
    "\n",
    "#多個條件,使用巢項判斷\n",
    "if is_add == 'y':\n",
    "    scores *= 1.05\n",
    "    if scores > 300:\n",
    "        scores = 300\n",
    "\n",
    "print(f\"學生總分為{scores:.0f}\")"
   ]
  }
 ],
 "metadata": {
  "language_info": {
   "name": "python"
  }
 },
 "nbformat": 4,
 "nbformat_minor": 2
}
