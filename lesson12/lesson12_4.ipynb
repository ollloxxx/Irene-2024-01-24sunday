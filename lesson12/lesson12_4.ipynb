{
 "cells": [
  {
   "cell_type": "code",
   "execution_count": null,
   "metadata": {},
   "outputs": [],
   "source": [
    "#不是cvs不用newline\n",
    "with open('names.txt',encoding='utf-8') as file:\n",
    "    names:str = file.read()\n",
    "print(names)\n"
   ]
  },
  {
   "cell_type": "code",
   "execution_count": 6,
   "metadata": {},
   "outputs": [],
   "source": [
    "with open('names.txt',encoding='utf-8') as file:\n",
    "    names_str:str = file.read()\n",
    "names:list[str] = names_str.split(sep=\"\\n\")"
   ]
  },
  {
   "cell_type": "code",
   "execution_count": 8,
   "metadata": {},
   "outputs": [
    {
     "data": {
      "text/plain": [
       "299"
      ]
     },
     "execution_count": 8,
     "metadata": {},
     "output_type": "execute_result"
    }
   ],
   "source": [
    "#內鍵抓比數的\n",
    "len(names)"
   ]
  },
  {
   "cell_type": "code",
   "execution_count": null,
   "metadata": {},
   "outputs": [],
   "source": [
    "import random\n",
    "\n",
    "num = 50\n",
    "\n",
    "randomNames:list[str] = random.choices(names,k=num)\n",
    "randomNames"
   ]
  },
  {
   "cell_type": "code",
   "execution_count": 10,
   "metadata": {},
   "outputs": [
    {
     "data": {
      "text/plain": [
       "{'name': '徐國堂', 'height': 159, 'weight': 105}"
      ]
     },
     "execution_count": 10,
     "metadata": {},
     "output_type": "execute_result"
    }
   ],
   "source": [
    "from pydantic import BaseModel\n",
    "from random import randint\n",
    "\n",
    "class Person(BaseModel):\n",
    "    name:str\n",
    "    height:int\n",
    "    weight:int\n",
    "\n",
    "p1 = Person(name='徐國堂',height=randint(150,195),weight=randint(50,110))\n",
    "p1.model_dump()"
   ]
  },
  {
   "cell_type": "code",
   "execution_count": 11,
   "metadata": {},
   "outputs": [
    {
     "data": {
      "text/plain": [
       "Person(name='徐國堂', height=186, weight=87)"
      ]
     },
     "execution_count": 11,
     "metadata": {},
     "output_type": "execute_result"
    }
   ],
   "source": [
    "from pydantic import BaseModel\n",
    "from random import randint\n",
    "\n",
    "class Person(BaseModel):\n",
    "    name:str\n",
    "    height:int\n",
    "    weight:int\n",
    "\n",
    "#實體->dict\n",
    "p1 = Person(name='徐國堂',height=randint(150,195),weight=randint(50,110))\n",
    "p1.model_dump()\n",
    "\n",
    "#dict->實體\n",
    "p2 = Person.model_validate({'name':'徐國堂',\n",
    "                       'height':randint(150,195),\n",
    "                       'weight':randint(50,110)})\n",
    "p2\n"
   ]
  },
  {
   "cell_type": "code",
   "execution_count": null,
   "metadata": {},
   "outputs": [],
   "source": [
    "\n",
    "persons:list[Person] = []\n",
    "for name in randomNames:\n",
    "    person = Person(name=name,\n",
    "           height=randint(150,195),\n",
    "           weight=randint(50,110))\n",
    "    persons.append(person)\n",
    "persons"
   ]
  }
 ],
 "metadata": {
  "kernelspec": {
   "display_name": "Python 3",
   "language": "python",
   "name": "python3"
  },
  "language_info": {
   "codemirror_mode": {
    "name": "ipython",
    "version": 3
   },
   "file_extension": ".py",
   "mimetype": "text/x-python",
   "name": "python",
   "nbconvert_exporter": "python",
   "pygments_lexer": "ipython3",
   "version": "3.10.13"
  }
 },
 "nbformat": 4,
 "nbformat_minor": 2
}
