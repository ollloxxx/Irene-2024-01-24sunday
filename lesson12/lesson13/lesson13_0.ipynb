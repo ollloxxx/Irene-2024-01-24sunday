{
 "cells": [
  {
   "cell_type": "code",
   "execution_count": 5,
   "metadata": {},
   "outputs": [
    {
     "name": "stdout",
     "output_type": "stream",
     "text": [
      "鄭琇亞,身高：188cm,體重：63kg,BMI：17.82,所屬範圍:體重過輕\n",
      "楊建安,身高：165cm,體重：59kg,BMI：21.67,所屬範圍:身材正常\n",
      "林昱芳,身高：157cm,體重：84kg,BMI：34.08,所屬範圍:中度肥胖\n",
      "王展人,身高：143cm,體重：46kg,BMI：22.49,所屬範圍:身材正常\n",
      "陳怡珊,身高：148cm,體重：50kg,BMI：22.83,所屬範圍:身材正常\n",
      "郭淑枝,身高：177cm,體重：92kg,BMI：29.37,所屬範圍:輕度肥胖\n",
      "黎惠雯,身高：177cm,體重：53kg,BMI：16.92,所屬範圍:體重過輕\n",
      "聶心怡,身高：183cm,體重：68kg,BMI：20.31,所屬範圍:身材正常\n",
      "林清英,身高：109cm,體重：41kg,BMI：34.51,所屬範圍:中度肥胖\n",
      "溫重意,身高：190cm,體重：74kg,BMI：20.50,所屬範圍:身材正常\n"
     ]
    }
   ],
   "source": [
    "#功課\n",
    "import random\n",
    "\n",
    "def getSuggestion(bmi:float) -> str:\n",
    "    '''計算建議：給入bmi:float，傳回suggest:str'''\n",
    "    if bmi<18.5:\n",
    "        suggest=('體重過輕')\n",
    "    elif bmi<24:\n",
    "        suggest=('身材正常')\n",
    "    elif bmi<27:\n",
    "        suggest=('體重稍重')\n",
    "    elif bmi<30:\n",
    "        suggest=('輕度肥胖')\n",
    "    elif bmi<35:\n",
    "        suggest=('中度肥胖')\n",
    "    else:  \n",
    "        suggest=('重度肥胖')\n",
    "    return suggest\n",
    "\n",
    "def getBMI(height:float,weight:float,)->float:\n",
    "    '''計算BMI，給入height:float及weight:float，傳回bmi:float'''\n",
    "    bmi=weight/((height/100)**2)\n",
    "    return bmi\n",
    "\n",
    "def homework(member:int):\n",
    "    for i in range(0,member):\n",
    "        with open('names.txt',encoding='utf-8') as file:\n",
    "            names: str = file.read()\n",
    "            name_list: list[str] = names.split(sep='\\n')\n",
    "            XXX=random.choice(name_list)\n",
    "            height=random.randint(100,190)\n",
    "            weight=random.randint(40,99)\n",
    "            bmi=getBMI(height,weight)\n",
    "            suggest=getSuggestion(bmi)\n",
    "            print(f'{XXX},身高：{height}cm,體重：{weight}kg,BMI：{bmi:.2f},所屬範圍:{suggest}')\n",
    "\n",
    "homework(10)"
   ]
  }
 ],
 "metadata": {
  "kernelspec": {
   "display_name": "Python 3",
   "language": "python",
   "name": "python3"
  },
  "language_info": {
   "codemirror_mode": {
    "name": "ipython",
    "version": 3
   },
   "file_extension": ".py",
   "mimetype": "text/x-python",
   "name": "python",
   "nbconvert_exporter": "python",
   "pygments_lexer": "ipython3",
   "version": "3.10.13"
  }
 },
 "nbformat": 4,
 "nbformat_minor": 2
}
