{
 "cells": [
  {
   "cell_type": "code",
   "execution_count": null,
   "metadata": {},
   "outputs": [],
   "source": [
    "import csv\n",
    "#讀取csv檔\n",
    "with open('個股日成交資訊.csv',encoding='utf-8',newline='') as csvFile:\n",
    "    reader = csv.DictReader(csvFile)\n",
    "    for row in reader:\n",
    "        print(row) \n"
   ]
  },
  {
   "cell_type": "code",
   "execution_count": null,
   "metadata": {},
   "outputs": [],
   "source": [
    "import csv\n",
    "from pydantic import BaseModel\n",
    "\n",
    "class Stack(BaseModel):\n",
    "    證券代號:str\n",
    "    證券名稱:str\n",
    "    開盤價:str\n",
    "    收盤價:str\n",
    "\n",
    "\n",
    "#讀取csv檔\n",
    "stacks = []\n",
    "with open('個股日成交資訊.csv',encoding='utf-8',newline='') as csvFile:\n",
    "    reader = csv.DictReader(csvFile)\n",
    "    for row in reader:        \n",
    "        stack = Stack.model_validate(row)\n",
    "        stacks.append(stack)\n",
    "stacks        "
   ]
  },
  {
   "cell_type": "code",
   "execution_count": 15,
   "metadata": {},
   "outputs": [
    {
     "data": {
      "text/plain": [
       "'富邦科技'"
      ]
     },
     "execution_count": 15,
     "metadata": {},
     "output_type": "execute_result"
    }
   ],
   "source": [
    "stacks[2].證券名稱"
   ]
  }
 ],
 "metadata": {
  "kernelspec": {
   "display_name": "Python 3",
   "language": "python",
   "name": "python3"
  },
  "language_info": {
   "codemirror_mode": {
    "name": "ipython",
    "version": 3
   },
   "file_extension": ".py",
   "mimetype": "text/x-python",
   "name": "python",
   "nbconvert_exporter": "python",
   "pygments_lexer": "ipython3",
   "version": "3.10.13"
  }
 },
 "nbformat": 4,
 "nbformat_minor": 2
}
