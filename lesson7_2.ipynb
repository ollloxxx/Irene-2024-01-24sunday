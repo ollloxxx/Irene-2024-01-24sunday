{
 "cells": [
  {
   "cell_type": "code",
   "execution_count": 1,
   "metadata": {},
   "outputs": [
    {
     "name": "stdout",
     "output_type": "stream",
     "text": [
      "0\n",
      "1\n",
      "2\n",
      "3\n",
      "4\n"
     ]
    }
   ],
   "source": [
    "i = 0\n",
    "while(i<5):\n",
    "    print(i)\n",
    "    i += 1\n",
    "    "
   ]
  },
  {
   "cell_type": "code",
   "execution_count": 2,
   "metadata": {},
   "outputs": [
    {
     "data": {
      "text/plain": [
       "5050"
      ]
     },
     "execution_count": 2,
     "metadata": {},
     "output_type": "execute_result"
    }
   ],
   "source": [
    "#while,做明確知道執行的次數\n",
    "total = 0\n",
    "i = 1\n",
    "while(i<101):\n",
    "    total += i\n",
    "    i += 1\n",
    "total"
   ]
  },
  {
   "cell_type": "code",
   "execution_count": 10,
   "metadata": {},
   "outputs": [
    {
     "name": "stdout",
     "output_type": "stream",
     "text": [
      "請輸入第1月份的存款:8520\n",
      "請輸入第2月份的存款:658\n",
      "請輸入第3月份的存款:123546\n",
      "恭喜!已經存夠了，存了3月,共存了132724元\n"
     ]
    }
   ],
   "source": [
    "#while,做不知道執行的次數\n",
    "import pyinputplus as pyip\n",
    "\n",
    "deposit:int = 0\n",
    "count:int = 0\n",
    "while(deposit<30000):\n",
    "   count += 1\n",
    "   value:int = pyip.inputInt(f\"請輸入第{count}月份的存款:\")\n",
    "   print(value)\n",
    "   deposit += value\n",
    "print(f\"恭喜!已經存夠了，存了{count}月,共存了{deposit}元\")"
   ]
  },
  {
   "cell_type": "code",
   "execution_count": null,
   "metadata": {},
   "outputs": [],
   "source": [
    "#通常while迴圈 會用true + break 跳出迴圈會較靈活 才不會一直執行到while的目的才跳出\n",
    "\n",
    "#小明想要存錢買一輛機車,機車每輛30000元，他將每月存的錢輸入，當存款足夠買機車時，就顯示提示訊息告知。\n",
    "#使用break跳出迴圈\n",
    "import pyinputplus as pyip\n",
    "\n",
    "deposit:int = 0\n",
    "count:int = 0\n",
    "while(True):\n",
    "    count += 1\n",
    "    value:int = pyip.inputInt(f'請輸入第{count}月份的存款:')\n",
    "    print(value)\n",
    "    deposit += value\n",
    "    if deposit >= 30000:\n",
    "        break\n",
    "\n",
    "print(f\"恭喜!已經存夠了，存了{count}個月份,共存了{deposit}元\")"
   ]
  }
 ],
 "metadata": {
  "kernelspec": {
   "display_name": "Python 3",
   "language": "python",
   "name": "python3"
  },
  "language_info": {
   "codemirror_mode": {
    "name": "ipython",
    "version": 3
   },
   "file_extension": ".py",
   "mimetype": "text/x-python",
   "name": "python",
   "nbconvert_exporter": "python",
   "pygments_lexer": "ipython3",
   "version": "3.10.13"
  }
 },
 "nbformat": 4,
 "nbformat_minor": 2
}
