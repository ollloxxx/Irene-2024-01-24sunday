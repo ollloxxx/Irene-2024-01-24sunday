{
 "cells": [
  {
   "cell_type": "code",
   "execution_count": 11,
   "metadata": {},
   "outputs": [
    {
     "name": "stdout",
     "output_type": "stream",
     "text": [
      "您的身高:156公分\n",
      "您的體重是:50.3公斤\n",
      "您的BMI:20.67\n"
     ]
    }
   ],
   "source": [
    "# BMI值 計算公式:  BMI=體重(公斤)/身高2(公尺2)\n",
    "\n",
    "height=eval(input(\"請輸入身高(公分):\"))\n",
    "weight=eval(input(\"請輸入體重(公斤):\"))\n",
    "bmi=weight / (height/100)**2\n",
    "print('您的身高:',height,'公分',sep='')\n",
    "print('您的體重是:',weight,'公斤',sep='')\n",
    "print('您的BMI:',round(bmi,ndigits=2),sep='')"
   ]
  },
  {
   "cell_type": "code",
   "execution_count": 10,
   "metadata": {},
   "outputs": [
    {
     "data": {
      "text/plain": [
       "20.59"
      ]
     },
     "execution_count": 10,
     "metadata": {},
     "output_type": "execute_result"
    }
   ],
   "source": [
    "num1=20.58678500986193\n",
    "round((num1),ndigits=2)\n"
   ]
  },
  {
   "cell_type": "code",
   "execution_count": 14,
   "metadata": {},
   "outputs": [
    {
     "data": {
      "text/plain": [
       "'我的身高是156公分'"
      ]
     },
     "execution_count": 14,
     "metadata": {},
     "output_type": "execute_result"
    }
   ],
   "source": [
    "#字串插補(字串格式化)\n",
    "height  = 156\n",
    "#字串和變數整合成為全新的字串\n",
    "f'我的身高是{height}公分'"
   ]
  },
  {
   "cell_type": "code",
   "execution_count": 21,
   "metadata": {},
   "outputs": [
    {
     "name": "stdout",
     "output_type": "stream",
     "text": [
      "您的身高:156公分\n",
      "您的身高:50.8公斤\n",
      "您的BMI:20.87\n"
     ]
    }
   ],
   "source": [
    "# BMI值 計算公式:  BMI=體重(公斤)/身高2(公尺2)\n",
    "\n",
    "height=eval(input(\"請輸入身高(公分):\"))\n",
    "weight=eval(input(\"請輸入體重(公斤):\"))\n",
    "bmi=weight / (height/100)**2\n",
    "print(f'您的身高:{height}公分')\n",
    "print(f'您的身高:{weight}公斤')\n",
    "#字串格式化的符號 要有:  可以直接.2f 就是指.2小數點兩位\n",
    "print(f'您的BMI:{bmi:.2f}')"
   ]
  }
 ],
 "metadata": {
  "kernelspec": {
   "display_name": "Python 3",
   "language": "python",
   "name": "python3"
  },
  "language_info": {
   "codemirror_mode": {
    "name": "ipython",
    "version": 3
   },
   "file_extension": ".py",
   "mimetype": "text/x-python",
   "name": "python",
   "nbconvert_exporter": "python",
   "pygments_lexer": "ipython3",
   "version": "3.10.13"
  }
 },
 "nbformat": 4,
 "nbformat_minor": 2
}
